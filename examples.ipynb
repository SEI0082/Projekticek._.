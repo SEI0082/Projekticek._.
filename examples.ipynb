{
 "cells": [
  {
   "attachments": {},
   "cell_type": "markdown",
   "metadata": {},
   "source": [
    "# Hledání nejkratší cesty v bludišti\n",
    "\n",
    "#### Autor: Dominik Seidler"
   ]
  },
  {
   "attachments": {},
   "cell_type": "markdown",
   "metadata": {},
   "source": [
    "Vložení třídy Maze pro bludiště"
   ]
  },
  {
   "cell_type": "code",
   "execution_count": 9,
   "metadata": {},
   "outputs": [],
   "source": [
    "import csv\n",
    "import networkx as nx\n",
    "import numpy as np\n",
    "import PIL.Image as Image\n",
    "\n",
    "\n",
    "class Maze:   \n",
    "    \"\"\"Class Maze má v sobě funkce a proměnné k generování, vyřešení a následné zobrazení bludišť daných šablon\"\"\"\n",
    "    \n",
    "    def __init__(self):\n",
    "        \"\"\"Konstruktor pro Maze\"\"\"\n",
    "        self.maze = []\n",
    "        self.n = 0\n",
    "        self.incidence_matrix = 0\n",
    "        self.nodes = []\n",
    "        self.final = []\n",
    "\n",
    "\n",
    "    def get_Maze(self) -> list:\n",
    "        \"\"\"Getter pro array s bludištěm\"\"\"\n",
    "        return self.maze\n",
    "    def set_Maze(self, maze: list):\n",
    "        \"\"\"Setter pro array s bludištěm\"\"\"\n",
    "        self.maze = np.copy(maze)\n",
    "\n",
    "    def get_N(self) -> int:\n",
    "        \"\"\"Getter pro počet řádků v bludišti (i sloupců)\"\"\"\n",
    "        return self.n\n",
    "    def set_N(self, n: int):\n",
    "        \"\"\"Setter pro počet řádků v bludišti (i sloupců)\"\"\"\n",
    "        self.n = n\n",
    "\n",
    "    def get_IM(self):\n",
    "        \"\"\"Getter pro sparse matrix incidenční matice bludiště (Matice vztahů)\"\"\"\n",
    "        return self.incidence_matrix\n",
    "    def set_IM(self, incidence_matrix):\n",
    "        \"\"\"Setter pro sparse matrix incidenční matice bludiště (Matice vztahů)\"\"\"\n",
    "        self.incidence_matrix = incidence_matrix\n",
    "\n",
    "    def get_Nodes(self) -> list:\n",
    "        \"\"\"Getter pro array jednotlivých prvků\"\"\"\n",
    "        return self.nodes\n",
    "    def set_Nodes(self, nodes: list):\n",
    "        \"\"\"Setter pro array jednotlivých prvků\"\"\"\n",
    "        self.nodes = np.copy(nodes)\n",
    "\n",
    "    def get_Final(self) -> list:\n",
    "        \"\"\"Getter pro array nejkratší cesty bludištěm\"\"\"\n",
    "        return self.final\n",
    "    def set_Final(self, final: list):\n",
    "        \"\"\"Setter pro array nejkratší cesty bludištěm\"\"\"\n",
    "        self.final = np.copy(final)\n",
    "\n",
    "\n",
    "    def load(self, path: str):\n",
    "        \"\"\"Metoda load(path) načte bludiště z .csv souboru a uloží ho do 'Maze' proměnné\"\"\"\n",
    "\n",
    "        with open(path) as csv_file:\n",
    "\n",
    "            #   vrátí iterátor řádků v .csv souboru\n",
    "            csv_reader = csv.reader(csv_file, delimiter=',')\n",
    "\n",
    "            n = 0\n",
    "            maze = []\n",
    "\n",
    "            #   pro jednotlivé řádky .csv souboru, vložím n prvků do proměnné 'maze'\n",
    "            for row in csv_reader:\n",
    "                if (n == 0):\n",
    "                    n = len(row)\n",
    "                    for i in range(n):\n",
    "                        maze.append(row[i])\n",
    "\n",
    "                else:\n",
    "                    for i in range(n):\n",
    "                        maze.append(row[i])\n",
    "            \n",
    "            #   Před koncem převedu prvky ze znaků na čísla\n",
    "            for i in range(len(maze)):\n",
    "                maze[i] = (int)(maze[i])\n",
    "\n",
    "        #   Nakonec uložím bludiště a jeho velikost do třídy\n",
    "        self.set_Maze(maze)\n",
    "        self.set_N((int)(len(maze)**0.5))\n",
    "\n",
    "    def printMaze(self):\n",
    "        \"\"\"Metoda printMaze vypíše uživateli bludiště na obrazovku, ALE také se stará o vkládání finální cesty do bludiště\"\"\"\n",
    "        \n",
    "        final = self.get_Final()\n",
    "        n = self.get_N()\n",
    "        maze = self.get_Maze()\n",
    "\n",
    "        #   'obyc' je bool proměnná, která určuje, jestli už mám nalezenou finální cestu nebo ne (False = Ano, True = Ne)\n",
    "        obyc = False\n",
    "        if(len(final) == 0): obyc = True\n",
    "\n",
    "        print(\"-------------------------------------------\")\n",
    "\n",
    "        #   Proces vykreslování bludiště na obrazovku\n",
    "        for i in range(n):\n",
    "            for j in range(n):\n",
    "\n",
    "                #   Pokud je prvek hrana, vykreslí se '■'\n",
    "                if (maze[i*n + j] == 1):\n",
    "                    print(\"■\",end=\" \")\n",
    "\n",
    "                #   Avšak pokud je prvek součástí finální cesty, vykreslí se '▪' a nastaví se prvek v poli na číslo 2\n",
    "                elif (obyc == False and (i*n + j) in final):\n",
    "                    print(\"▪\",end=\" \")\n",
    "                    maze[i*n + j] = 2\n",
    "\n",
    "                #   Nakonec prvek bude cesta, průchozí buňka, vypíše se '□'\n",
    "                else: \n",
    "                    print(\"□\",end=\" \")\n",
    "            print()\n",
    "\n",
    "        print(\"-------------------------------------------\")        \n",
    "        \n",
    "    def incidenceMatrix(self):\n",
    "        \"\"\"Metoda incidenceMatrix() vytvoří pro dané bludiště tabulku vztahů jednotlivých průchozích buněk pomocí knihovny 'networkx'\"\"\"\n",
    "        \n",
    "        nodes = []\n",
    "        edges = []\n",
    "        n = self.get_N()\n",
    "        maze = self.get_Maze()\n",
    "\n",
    "        #   Proběhne pro všechny prvky matice, pokud prvek je průchozí, vloží se do listu 'nodes' a pokud má kolem sebe další průchozí prvek, oba se vloží do listu 'edges'\n",
    "        for i in range(n):\n",
    "            for j in range(n):\n",
    "                now = i*n + j\n",
    "                if (maze[now] == 0):\n",
    "                    nodes.append(now)\n",
    "                    if(j < n - 1 and maze[now + 1] == 0):\n",
    "                        edges.append([now, now + 1])\n",
    "                    if(i < n - 1 and maze[now + n] == 0):\n",
    "                        edges.append([now, now + n])\n",
    "                    if(i > 0 and maze[now - n] == 0):\n",
    "                        edges.append([now - n, now])\n",
    "\n",
    "        #   Vytvořím pomocí networkx incidenční matici podle nodes a edges\n",
    "        G = nx.DiGraph()\n",
    "        G.add_nodes_from(nodes)\n",
    "        G.add_edges_from(edges)\n",
    "\n",
    "        #   Vložím vytvořené proměnné do třídy\n",
    "        self.set_IM(nx.incidence_matrix(G))\n",
    "        self.set_Nodes(nodes)\n",
    "\n",
    "    def shortestPath(self) -> bool:\n",
    "        \"\"\"Metoda shortestPath() vytvoří na základě incidenční matice nejkratší cestu v bludišti a vrací proměnnou typu bool o úspěšnosti nalezení výsledku\"\"\"\n",
    "\n",
    "        A = (self.get_IM()).todense()\n",
    "        n = self.get_N()\n",
    "        nodes = self.get_Nodes()\n",
    "    \n",
    "        #   list connections má v sobě vzájemně propojené prvky a nodeCosts je list dvou proměnných, kde první proměnná je pozice prvku v bludišti a druhá je její vzdálenost od počátku (defaultně nastavuji na 9999999)\n",
    "        connections = []\n",
    "        nodeCosts = []\n",
    "        nodeCosts.append([0, 0])\n",
    "        for i in range(1, len(nodes)):\n",
    "            nodeCosts.append([nodes[i],9999999])\n",
    "\n",
    "        #   Tyto cykly naplňují listy nodeCosts a connections, tudíž i hledají cestu v bludišti\n",
    "        for pocet in range(n**2//2):\n",
    "            for col in range(len(A.T)):\n",
    "                i = 0\n",
    "                j = 0\n",
    "\n",
    "                #   Najde 1. a 2. prvek v A[col]\n",
    "                while(A[i][col] != 1 and i < len(A)):\n",
    "                    i += 1\n",
    "                j = i + 1\n",
    "                while(A[j][col] != 1 and j < len(A)):\n",
    "                    j += 1\n",
    "\n",
    "                #   Předělá jen prvky s vyšší vzdáleností, upraví nodeCosts a přidá prvky do connections\n",
    "                if(nodeCosts[j][1] > nodeCosts[i][1]):\n",
    "                    nodeCosts[j][1] = nodeCosts[i][1] + 1\n",
    "                    connections.append([nodeCosts[j][0],nodeCosts[i][0]])  \n",
    "                elif(nodeCosts[j][1] < nodeCosts[i][1]):\n",
    "                    nodeCosts[i][1] = nodeCosts[j][1] + 1\n",
    "                    connections.append([nodeCosts[i][0],nodeCosts[j][0]]) \n",
    "\n",
    "            #   Pokud koncový prvek má cestu, tak se cyklus ukončí \n",
    "            if(nodeCosts[-1][1] < 9999999): break           \n",
    "\n",
    "        #   Pokud ale cesta nebyla nalezena, metoda se ukončí s hodnotou 'False'\n",
    "        if(nodeCosts[-1][1] == 9999999):\n",
    "            return False\n",
    "    \n",
    "        #   Deklarace finální cesty + její první proměnné\n",
    "        final = []\n",
    "        final.append(nodeCosts[-1][0]) \n",
    "\n",
    "        #   Cyklus pro nalezení cesty spočívá v tom, že jedu od posledního prvku a hledám všechny se vzdáleností od počátku o 1 menší a zarověň prvky musí být propojené\n",
    "        for i in range(nodeCosts[-1][1], -1, -1):\n",
    "            for j in range(len(nodeCosts)-1, -1, -1):\n",
    "\n",
    "                #   List array slouží k uložení všech prvků s danou vzdáleností\n",
    "                array = []\n",
    "                if(nodeCosts[j][1] == i - 1):\n",
    "                    for k in range(len(nodeCosts)):\n",
    "                        if(nodeCosts[k][1] == i):\n",
    "                            array.append(k)\n",
    "                    for k in range(len(array)):\n",
    "                        if([nodeCosts[array[k]][0], nodeCosts[j][0]] in connections and final[-1] == nodeCosts[array[k]][0]):\n",
    "                            final.append(nodeCosts[j][0])\n",
    "                            break\n",
    "        \n",
    "        #   Nakonec zkontroluju, jestli cesta byla nalezena a jestli se její vzdálenost rovná vzdálenosti obou konců\n",
    "        if(len(final) == nodeCosts[-1][1] + 1):\n",
    "            self.set_Final(final)   \n",
    "            return True  \n",
    "        return False  \n",
    "\n",
    "    def toImage(self, name: str) -> str:\n",
    "        \"\"\"Metoda toImage(name) vytvoří z bludiště 'name'.png obrázek\"\"\"\n",
    "\n",
    "        n = self.get_N()\n",
    "        maze = self.get_Maze()\n",
    "\n",
    "        #   Matice 'data' se vytvoří jako matice RGB hodnot, kde všechny hodnoty jsou 0, neboli černé\n",
    "        data = np.zeros((n + 2, n + 2, 3), dtype=np.uint8)\n",
    "\n",
    "        #   Poté následně naplňuji matici správnými hodnotami\n",
    "        for i in range(n):\n",
    "            for j in range(n):\n",
    "                if(maze[i * n + j] == 0):\n",
    "                    data[i + 1][j + 1] = [255, 255, 255]\n",
    "                elif(maze[i * n + j] == 2):\n",
    "                    data[i + 1][j + 1] = [255, 0, 0]\n",
    "\n",
    "        #   Pomocí knihovny 'PIL' vytvořím obrázek s matice 'data' a vrátím uživateli zprávu o tom, jak se jmenuje\n",
    "        img = Image.fromarray(data, 'RGB')\n",
    "        img.save(name + \".png\")\n",
    "        return (\"Image of the maze is named: \" + name)\n",
    "\n",
    "    def createMaze(self, preset: str):\n",
    "        \"\"\"Metoda createMaze kombinuje všechny dosud vytvořené (až na 'load' metodu) k vytvoření a vyřešení bludiště dané šablony\"\"\"\n",
    "        \n",
    "        n = self.get_N()\n",
    "\n",
    "        #   List 'blocked' obsahuje prvky bludiště, které se nemohou přepsat a proměnná 'newMaze' se vytvoří jako bludiště jen s počátkem a koncem \n",
    "        blocked = []\n",
    "        newMaze = np.ones(n**2)\n",
    "        for i in range(-1,1):\n",
    "            newMaze[i] = 0\n",
    "        \n",
    "        #   Šablona 'S' nebo 'slalom' vloží a zablokuje řádky v třetinách bludiště, aby cesta dotkla 2x levé a pravé hrany bludiště\n",
    "        if(preset == 'S' or preset == 's' or preset == \"slalom\"):\n",
    "            first = n//3    #   Prvni třetina\n",
    "            second = (2 * n)//3 #   Druhá třetina\n",
    "\n",
    "            newMaze[n * (first + 1) - 1] = 0    #   Poslední prvek prvni třetiny\n",
    "            newMaze[n * second] = 0 #   První prvek druhe třetiny\n",
    "\n",
    "            #   do listu 'blocked' vložím všechny prvky řádku v první a druhé třetině bludiště\n",
    "            for j in range(n):\n",
    "                blocked.append(n * first + j)\n",
    "                blocked.append(n * second + j)\n",
    "\n",
    "        #   Šablona 'L' nebo 'ladder' vloží do bludiště tolik překážek, že cesta povede zig-zag celým bludištěm\n",
    "        elif(preset == 'L' or preset == 'l' or preset == \"ladder\"):\n",
    "\n",
    "            #   Vytvořím listy, které rozdělí bludiště na 5 * 3 políček\n",
    "            row = [n//5, (2 * n)//5, (3 * n)//5, (4 * n)//5]\n",
    "            col = [n//3, (2 * n)//3]\n",
    "\n",
    "            #   Vložím průchozí buňky pro průchod mezi řádky\n",
    "            for i in range(2):\n",
    "                newMaze[n * (row[2*i] + 1) - 1] = 0\n",
    "                newMaze[n * row[1 + 2*i]] = 0\n",
    "\n",
    "            #   Vložím průchozí buňky pro průchod mezi sloupci\n",
    "            newMaze[n * (n - 1) + col[0]] = 0\n",
    "            newMaze[col[1]] = 0\n",
    "            for i in range(4):\n",
    "                newMaze[n * (row[i] - 1) + col[i%2]] = 0\n",
    "                newMaze[n * (row[i] + 1) + col[i%2]] = 0\n",
    "            \n",
    "            #   Nakonec zablokuju vkládání 6 přímek bludiště\n",
    "            for i in range(2):\n",
    "                for j in range(n):\n",
    "                    blocked.append(n * row[i] + j)\n",
    "                    blocked.append(n * row[i + 2] + j)\n",
    "                    blocked.append(n * j + col[i])\n",
    "\n",
    "        #   Šablona 'E' nebo 'edges' vloží do bludiště 'trubku', která vede mezi levým-dolním a pravým-horním vrcholem, tak, aby bludiště trubkou muselo projít k dosažení výsledku\n",
    "        elif(preset == 'E' or preset == 'e' or preset == \"edges\"):\n",
    "\n",
    "            newMaze[n**2 - n * (n-1) - 1] = 0   #   Pravy horní roh\n",
    "            blocked.append(n**2 - n * (n-1) - 2)  #   1 vedle pravého horního rohu\n",
    "            \n",
    "            #   Vkládání průchozích buňek na vedlejší a pod-vedlejší diagonálu + blokace prvků nad a pod průchozíma\n",
    "            for i in range(n-2, n):\n",
    "                newMaze[n**2 - i * (n-1) - 1] = 0\n",
    "                newMaze[n**2 - i * (n - 1)] = 0\n",
    "            for i in range(1, n - 2):\n",
    "                newMaze[n**2 - i * (n-1) - 1] = 0\n",
    "                newMaze[n**2 - i * (n - 1)] = 0\n",
    "\n",
    "                blocked.append(n**2 - i * (n-1) - 2*n)\n",
    "                blocked.append(n**2 - i * (n - 1) + 1)\n",
    "\n",
    "        #   Uložení startovního bludiště\n",
    "        self.set_Maze(newMaze)\n",
    "\n",
    "        #   Cyklus pojede, dokud nebude nalezena cesta v bludišti, každým cyklem přidá náhodně 'n' počet prvků do bludiště \n",
    "        success = False\n",
    "        while(success == False):\n",
    "\n",
    "            #   Random nemá žádné omezení, tudíž nemusím kontrolovat, jestli prvky nejsou v 'blocked'\n",
    "            if(preset == 'R' or preset == 'r' or preset == \"random\"):\n",
    "                rand = np.random.rand(n)\n",
    "                for i in range(len(rand)):\n",
    "                    newMaze[(int)(rand[i] * (n**2))] = 0\n",
    "\n",
    "            #   Pro ostatní šablony kontroluju, jestli náhodně vytvoený prvek není v 'blocked'\n",
    "            elif(preset == 'S' or preset == 's' or preset == \"slalom\" or preset == 'L' or preset == 'l' or preset == \"ladder\" or preset == 'E' or preset == 'e' or preset == \"edges\"):\n",
    "                rand = np.random.rand(n)\n",
    "                for i in range(len(rand)):\n",
    "                    if((int)(rand[i] * (n**2)) in blocked):\n",
    "                        continue\n",
    "                    newMaze[(int)(rand[i] * (n**2))] = 0\n",
    "\n",
    "            #   Nakonec uloží bludiště a otestuje, jestli má řešení\n",
    "            self.set_Maze(newMaze)\n",
    "            self.incidenceMatrix()\n",
    "            success = self.shortestPath()\n",
    "\n",
    "        #   Až najde řešení, bludiště se naposled uloží a vypíše i s cestou uživateli vyřešené bludiště na obrazovku\n",
    "        self.set_Maze(newMaze)  \n",
    "        self.printMaze()\n"
   ]
  },
  {
   "attachments": {},
   "cell_type": "markdown",
   "metadata": {},
   "source": [
    "Testování bludiště o velikosti 10 s šablonou 'R' nebo 'random'"
   ]
  },
  {
   "cell_type": "code",
   "execution_count": 14,
   "metadata": {},
   "outputs": [
    {
     "name": "stderr",
     "output_type": "stream",
     "text": [
      "C:\\Users\\domin\\AppData\\Local\\Temp\\ipykernel_4540\\2784862073.py:145: FutureWarning: incidence_matrix will return a scipy.sparse array instead of a matrix in Networkx 3.0.\n",
      "  self.set_IM(nx.incidence_matrix(G))\n"
     ]
    },
    {
     "name": "stdout",
     "output_type": "stream",
     "text": [
      "-------------------------------------------\n",
      "▪ □ □ ■ □ ■ □ □ □ □ \n",
      "▪ □ □ ■ □ □ □ ■ □ □ \n",
      "▪ □ □ ■ ■ ■ □ □ ■ □ \n",
      "▪ □ □ □ □ □ ■ ■ □ □ \n",
      "▪ ▪ ▪ □ □ ■ □ □ □ □ \n",
      "□ ■ ▪ ▪ ■ □ □ □ □ □ \n",
      "■ □ ■ ▪ ■ □ □ ■ □ □ \n",
      "□ □ □ ▪ ■ □ ■ ■ □ ■ \n",
      "□ ■ □ ▪ ▪ ▪ ■ ■ □ □ \n",
      "□ □ □ □ ■ ▪ ▪ ▪ ▪ ▪ \n",
      "-------------------------------------------\n"
     ]
    },
    {
     "data": {
      "text/plain": [
       "'Image of the maze is named: BludisteR'"
      ]
     },
     "execution_count": 14,
     "metadata": {},
     "output_type": "execute_result"
    }
   ],
   "source": [
    "BludisteR = Maze()\n",
    "BludisteR.set_N(10)\n",
    "BludisteR.createMaze('random')\n",
    "BludisteR.toImage(\"BludisteR\")"
   ]
  },
  {
   "attachments": {},
   "cell_type": "markdown",
   "metadata": {},
   "source": [
    "Testování bludiště o velikosti 10 s šablonou 'S' nebo 'slalom'"
   ]
  },
  {
   "cell_type": "code",
   "execution_count": 11,
   "metadata": {},
   "outputs": [
    {
     "name": "stderr",
     "output_type": "stream",
     "text": [
      "C:\\Users\\domin\\AppData\\Local\\Temp\\ipykernel_4540\\2784862073.py:145: FutureWarning: incidence_matrix will return a scipy.sparse array instead of a matrix in Networkx 3.0.\n",
      "  self.set_IM(nx.incidence_matrix(G))\n"
     ]
    },
    {
     "name": "stdout",
     "output_type": "stream",
     "text": [
      "-------------------------------------------\n",
      "▪ □ □ □ □ □ □ □ □ □ \n",
      "▪ ■ □ □ □ □ □ □ □ □ \n",
      "▪ ▪ ▪ ▪ ▪ ▪ ▪ ▪ ▪ ▪ \n",
      "■ ■ ■ ■ ■ ■ ■ ■ ■ ▪ \n",
      "■ □ ■ □ □ □ □ □ □ ▪ \n",
      "▪ ▪ ▪ ▪ ▪ ▪ ▪ ▪ ▪ ▪ \n",
      "▪ ■ ■ ■ ■ ■ ■ ■ ■ ■ \n",
      "▪ □ □ □ □ □ □ □ □ □ \n",
      "▪ ▪ ▪ ▪ ▪ ▪ □ □ □ □ \n",
      "□ □ □ □ ■ ▪ ▪ ▪ ▪ ▪ \n",
      "-------------------------------------------\n"
     ]
    },
    {
     "data": {
      "text/plain": [
       "'Image of the maze is named: BludisteS'"
      ]
     },
     "execution_count": 11,
     "metadata": {},
     "output_type": "execute_result"
    }
   ],
   "source": [
    "BludisteS = Maze()\n",
    "BludisteS.set_N(10)\n",
    "BludisteS.createMaze('slalom')\n",
    "BludisteS.toImage(\"BludisteS\")"
   ]
  },
  {
   "attachments": {},
   "cell_type": "markdown",
   "metadata": {},
   "source": [
    "Testování bludiště o velikosti 9 s šablonou 'L' nebo 'ladder'"
   ]
  },
  {
   "cell_type": "code",
   "execution_count": 4,
   "metadata": {},
   "outputs": [
    {
     "name": "stderr",
     "output_type": "stream",
     "text": [
      "C:\\Users\\domin\\AppData\\Local\\Temp\\ipykernel_4540\\2784862073.py:145: FutureWarning: incidence_matrix will return a scipy.sparse array instead of a matrix in Networkx 3.0.\n",
      "  self.set_IM(nx.incidence_matrix(G))\n"
     ]
    },
    {
     "name": "stdout",
     "output_type": "stream",
     "text": [
      "-------------------------------------------\n",
      "▪ ▪ ▪ ▪ ▪ ▪ ▪ ▪ ▪ \n",
      "■ ■ ■ ■ ■ ■ ■ ■ ▪ \n",
      "▪ ▪ ▪ ▪ ▪ ▪ ▪ ▪ ▪ \n",
      "▪ ■ ■ ■ ■ ■ ■ ■ ■ \n",
      "▪ ▪ ▪ ▪ ▪ ▪ ▪ ▪ ▪ \n",
      "■ ■ ■ ■ ■ ■ ■ ■ ▪ \n",
      "▪ ▪ ▪ ▪ ▪ ▪ ▪ ▪ ▪ \n",
      "▪ ■ ■ ■ ■ ■ ■ ■ ■ \n",
      "▪ ▪ ▪ ▪ ▪ ▪ ▪ ▪ ▪ \n",
      "-------------------------------------------\n"
     ]
    },
    {
     "data": {
      "text/plain": [
       "'Image of the maze is named: BludisteL'"
      ]
     },
     "execution_count": 4,
     "metadata": {},
     "output_type": "execute_result"
    }
   ],
   "source": [
    "BludisteL = Maze()\n",
    "BludisteL.set_N(9)\n",
    "BludisteL.createMaze('ladder')\n",
    "BludisteL.toImage(\"BludisteL\")"
   ]
  },
  {
   "attachments": {},
   "cell_type": "markdown",
   "metadata": {},
   "source": [
    "Testování bludiště o velikosti 10 s šablonou 'E' nebo 'edges'"
   ]
  },
  {
   "cell_type": "code",
   "execution_count": 15,
   "metadata": {},
   "outputs": [
    {
     "name": "stderr",
     "output_type": "stream",
     "text": [
      "C:\\Users\\domin\\AppData\\Local\\Temp\\ipykernel_4540\\2784862073.py:145: FutureWarning: incidence_matrix will return a scipy.sparse array instead of a matrix in Networkx 3.0.\n",
      "  self.set_IM(nx.incidence_matrix(G))\n"
     ]
    },
    {
     "name": "stdout",
     "output_type": "stream",
     "text": [
      "-------------------------------------------\n",
      "▪ □ □ □ □ □ □ □ ■ □ \n",
      "▪ ▪ □ □ □ □ □ ■ □ □ \n",
      "■ ▪ □ ■ □ ■ ■ ▪ ▪ ▪ \n",
      "▪ ▪ □ □ □ ■ ▪ ▪ ■ ▪ \n",
      "▪ ■ □ □ ■ ▪ ▪ ■ □ ▪ \n",
      "▪ □ □ ■ ▪ ▪ ■ □ □ ▪ \n",
      "▪ □ ■ ▪ ▪ ■ □ □ □ ▪ \n",
      "▪ ■ ▪ ▪ ■ □ □ ■ ■ ▪ \n",
      "▪ ▪ ▪ ■ ■ ■ □ □ □ ▪ \n",
      "□ □ ■ □ □ □ □ □ □ ▪ \n",
      "-------------------------------------------\n"
     ]
    },
    {
     "data": {
      "text/plain": [
       "'Image of the maze is named: BludisteE'"
      ]
     },
     "execution_count": 15,
     "metadata": {},
     "output_type": "execute_result"
    }
   ],
   "source": [
    "BludisteE = Maze()\n",
    "BludisteE.set_N(10)\n",
    "BludisteE.createMaze('edges')\n",
    "BludisteE.toImage(\"BludisteE\")"
   ]
  },
  {
   "attachments": {},
   "cell_type": "markdown",
   "metadata": {},
   "source": [
    "Výsledek bludiště o velikosti 30 s šablonou 'R' nebo 'random'"
   ]
  },
  {
   "attachments": {},
   "cell_type": "markdown",
   "metadata": {},
   "source": [
    "<img src=\"data/BludisteR.png\" style=\"\n",
    "    width: 200px;\n",
    "    filter: blur(0px);\n",
    "    image-rendering: -moz-crisp-edges;\n",
    "    image-rendering: -o-crisp-edges;\n",
    "    image-rendering: -webkit-optimize-contrast;\n",
    "    image-rendering: pixelated;\n",
    "    -ms-interpolation-mode: nearest-neighbor;\n",
    "\"/>"
   ]
  },
  {
   "attachments": {},
   "cell_type": "markdown",
   "metadata": {},
   "source": [
    "Výsledek bludiště o velikosti 26 s šablonou 'S' nebo 'slalom'"
   ]
  },
  {
   "attachments": {},
   "cell_type": "markdown",
   "metadata": {},
   "source": [
    "<img src=\"data/BludisteS.png\" style=\"\n",
    "    width: 200px;\n",
    "    filter: blur(0px);\n",
    "    image-rendering: -moz-crisp-edges;\n",
    "    image-rendering: -o-crisp-edges;\n",
    "    image-rendering: -webkit-optimize-contrast;\n",
    "    image-rendering: pixelated;\n",
    "    -ms-interpolation-mode: nearest-neighbor;\n",
    "\"/>"
   ]
  },
  {
   "attachments": {},
   "cell_type": "markdown",
   "metadata": {},
   "source": [
    "Výsledek bludiště o velikosti 24 s šablonou 'L' nebo 'ladder'"
   ]
  },
  {
   "attachments": {},
   "cell_type": "markdown",
   "metadata": {},
   "source": [
    "<img src=\"data/BludisteL.png\" style=\"\n",
    "    width: 200px;\n",
    "    filter: blur(0px);\n",
    "    image-rendering: -moz-crisp-edges;\n",
    "    image-rendering: -o-crisp-edges;\n",
    "    image-rendering: -webkit-optimize-contrast;\n",
    "    image-rendering: pixelated;\n",
    "    -ms-interpolation-mode: nearest-neighbor;\n",
    "\"/>"
   ]
  },
  {
   "attachments": {},
   "cell_type": "markdown",
   "metadata": {},
   "source": [
    "Výsledek bludiště o velikosti 24 s šablonou 'E' nebo 'edges'"
   ]
  },
  {
   "attachments": {},
   "cell_type": "markdown",
   "metadata": {},
   "source": [
    "<img src=\"data/BludisteE.png\" style=\"\n",
    "    width: 200px;\n",
    "    filter: blur(0px);\n",
    "    image-rendering: -moz-crisp-edges;\n",
    "    image-rendering: -o-crisp-edges;\n",
    "    image-rendering: -webkit-optimize-contrast;\n",
    "    image-rendering: pixelated;\n",
    "    -ms-interpolation-mode: nearest-neighbor;\n",
    "\"/>"
   ]
  }
 ],
 "metadata": {
  "kernelspec": {
   "display_name": "base",
   "language": "python",
   "name": "python3"
  },
  "language_info": {
   "codemirror_mode": {
    "name": "ipython",
    "version": 3
   },
   "file_extension": ".py",
   "mimetype": "text/x-python",
   "name": "python",
   "nbconvert_exporter": "python",
   "pygments_lexer": "ipython3",
   "version": "3.9.13"
  },
  "orig_nbformat": 4
 },
 "nbformat": 4,
 "nbformat_minor": 2
}
